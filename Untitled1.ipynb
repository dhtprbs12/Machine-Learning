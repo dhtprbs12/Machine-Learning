{
 "cells": [
  {
   "cell_type": "code",
   "execution_count": 1,
   "metadata": {},
   "outputs": [
    {
     "name": "stderr",
     "output_type": "stream",
     "text": [
      "/anaconda3/lib/python3.6/site-packages/h5py/__init__.py:36: FutureWarning: Conversion of the second argument of issubdtype from `float` to `np.floating` is deprecated. In future, it will be treated as `np.float64 == np.dtype(float).type`.\n",
      "  from ._conv import register_converters as _register_converters\n"
     ]
    }
   ],
   "source": [
    "import tensorflow as tf\n",
    "import numpy as np"
   ]
  },
  {
   "cell_type": "code",
   "execution_count": 2,
   "metadata": {},
   "outputs": [],
   "source": [
    "X = tf.placeholder(tf.float32, shape=[None, 4]) # X has 4 values\n",
    "Y = tf.placeholder(tf.float32, shape=[None, 1]) # Y has 1 values\n",
    "W = tf.Variable(tf.random_normal([4,1]), name=\"weight\") #가중치 값 초기화\n",
    "b = tf.Variable(tf.random_normal([1]), name=\"bias\") #bias값 초기화"
   ]
  },
  {
   "cell_type": "code",
   "execution_count": 3,
   "metadata": {},
   "outputs": [],
   "source": [
    "hypothesis = tf.matmul(X,W) + b # initialize real hypothesis for machine learning"
   ]
  },
  {
   "cell_type": "code",
   "execution_count": 5,
   "metadata": {},
   "outputs": [],
   "source": [
    "saver = tf.train.Saver()#저장된 모델 객채를 불러와 초기화\n",
    "model = tf.global_variables_initializer()"
   ]
  },
  {
   "cell_type": "code",
   "execution_count": 6,
   "metadata": {},
   "outputs": [
    {
     "name": "stdout",
     "output_type": "stream",
     "text": [
      "average temp: 15.5\n",
      "minimum temp: 3.5\n",
      "maximum temp: 20.5\n",
      "rainfall: 5\n"
     ]
    }
   ],
   "source": [
    "#input from user\n",
    "avg_temp = float(input('average temp: '))\n",
    "min_temp = float(input('minimum temp: '))\n",
    "max_temp = float(input('maximum temp: '))\n",
    "rain_fall = float(input('rainfall: '))"
   ]
  },
  {
   "cell_type": "code",
   "execution_count": 9,
   "metadata": {},
   "outputs": [
    {
     "name": "stdout",
     "output_type": "stream",
     "text": [
      "INFO:tensorflow:Restoring parameters from ./saved.cpkt\n",
      "[4507.3633]\n"
     ]
    }
   ],
   "source": [
    "with tf.Session() as sess: # by using tensorflow's session\n",
    "    sess.run(model) # get a result by using those input values with educated model\n",
    "    save_path = \"./saved.cpkt\"\n",
    "    saver.restore(sess,save_path) # load the stored edcuated model onto sess\n",
    "    \n",
    "    data = ((avg_temp, min_temp, max_temp, rain_fall),) # create 2-dimension array \n",
    "    arr = np.array(data, dtype=np.float32) # initialize array based on user inputs\n",
    "    \n",
    "    x_data = arr[0:4]\n",
    "    dict = sess.run(hypothesis, feed_dict={X: x_data}) # run session\n",
    "    print(dict[0])"
   ]
  },
  {
   "cell_type": "code",
   "execution_count": null,
   "metadata": {},
   "outputs": [],
   "source": []
  }
 ],
 "metadata": {
  "kernelspec": {
   "display_name": "Python 3",
   "language": "python",
   "name": "python3"
  },
  "language_info": {
   "codemirror_mode": {
    "name": "ipython",
    "version": 3
   },
   "file_extension": ".py",
   "mimetype": "text/x-python",
   "name": "python",
   "nbconvert_exporter": "python",
   "pygments_lexer": "ipython3",
   "version": "3.6.5"
  }
 },
 "nbformat": 4,
 "nbformat_minor": 2
}
